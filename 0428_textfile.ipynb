{
 "cells": [
  {
   "cell_type": "code",
   "execution_count": 6,
   "metadata": {},
   "outputs": [],
   "source": [
    "with open('my_file.txt', mode= 'w', encoding= 'utf-8') as f: \n",
    "    f.write('The first line\\n')\n",
    "    f.write('And this is the second line\\n')\n",
    "    f.write('This is currently the last line\\n')"
   ]
  },
  {
   "cell_type": "code",
   "execution_count": 28,
   "metadata": {},
   "outputs": [],
   "source": [
    "with open('courses.txt', mode= 'w', encoding= 'utf-8') as f: \n",
    "    f.write('Hello my name is Sammi\\n')\n",
    "   "
   ]
  },
  {
   "cell_type": "code",
   "execution_count": 12,
   "metadata": {},
   "outputs": [
    {
     "name": "stdout",
     "output_type": "stream",
     "text": [
      "The\n",
      " first\n",
      " line\n",
      "An\n",
      "d this is the second line\n",
      "\n",
      "This is currently the last line\n",
      "\n"
     ]
    }
   ],
   "source": [
    "with open('my_file.txt', mode='r+') as fo:\n",
    "    print(fo.read(3))\n",
    "    print(fo.read(6))\n",
    "    print(fo.read(8))\n",
    "    print(fo.readline())\n",
    "    print(fo.readline())"
   ]
  },
  {
   "cell_type": "code",
   "execution_count": 15,
   "metadata": {},
   "outputs": [
    {
     "name": "stdout",
     "output_type": "stream",
     "text": [
      "The first line\n",
      "\n",
      "And this is the second line\n",
      "This is currently the last line\n",
      "\n"
     ]
    }
   ],
   "source": [
    "with open('my_file.txt', mode='r+') as fo:\n",
    "    #print(fo.read())\n",
    "    print(fo.readline())\n",
    "    print(fo.read())"
   ]
  },
  {
   "cell_type": "code",
   "execution_count": 19,
   "metadata": {},
   "outputs": [
    {
     "name": "stdout",
     "output_type": "stream",
     "text": [
      "The\n",
      "3\n",
      "45\n",
      "45\n",
      "This is currently the last line\n",
      "\n"
     ]
    }
   ],
   "source": [
    "with open('my_file.txt', mode='r+') as fo:\n",
    "    print(fo.read(3))\n",
    "    print(fo.tell())\n",
    "    print(fo.seek(45))\n",
    "    print(fo.tell())\n",
    "    print(fo.read())"
   ]
  },
  {
   "cell_type": "code",
   "execution_count": 20,
   "metadata": {},
   "outputs": [
    {
     "name": "stdout",
     "output_type": "stream",
     "text": [
      "['The first line\\n', 'And this is the second line\\n', 'This is currently the last line\\n']\n"
     ]
    }
   ],
   "source": [
    "with open('my_file.txt', mode='r+') as fo:\n",
    "    print(fo.readlines())"
   ]
  },
  {
   "cell_type": "code",
   "execution_count": null,
   "metadata": {},
   "outputs": [],
   "source": [
    "with open('courses.csv', mode='w') as csv_file:\n",
    "    csv_file.write('Course Id, Course Name, Instructor\\n')\n",
    "    csv_file.write('CSIPL01, Introduction to Java, Marcial Cordon\\n')\n",
    "    csv_file.write('CSIPL02, Introduction to Python, Young Wook Baek')"
   ]
  },
  {
   "cell_type": "code",
   "execution_count": 29,
   "metadata": {},
   "outputs": [],
   "source": [
    "with open('courses.txt', mode='w') as csv_file:\n",
    "    csv_file.write('Course Id, Course Name, Instructor\\n')\n",
    "    csv_file.write('CSIPL01, Introduction to Java, Marcial Cordon\\n')\n",
    "    csv_file.write('CSIPL02, Introduction to Python, Young Wook Baek')"
   ]
  },
  {
   "cell_type": "code",
   "execution_count": 30,
   "metadata": {},
   "outputs": [
    {
     "name": "stdout",
     "output_type": "stream",
     "text": [
      "Course Id \t  Course Name (  Instructor )\n",
      "CSIPL01 \t  Introduction to Java (  Marcial Cordon )\n",
      "CSIPL02 \t  Introduction to Python (  Young Wook Baek )\n"
     ]
    }
   ],
   "source": [
    "with open('courses.txt', mode= 'r+') as csv_file:\n",
    "    for line in csv_file.read().split('\\n'):\n",
    "        c_id, c_name, instructor= line.split(',')\n",
    "        print(c_id, '\\t', c_name, '(', instructor, ')')"
   ]
  }
 ],
 "metadata": {
  "kernelspec": {
   "display_name": "Python 3",
   "language": "python",
   "name": "python3"
  },
  "language_info": {
   "codemirror_mode": {
    "name": "ipython",
    "version": 3
   },
   "file_extension": ".py",
   "mimetype": "text/x-python",
   "name": "python",
   "nbconvert_exporter": "python",
   "pygments_lexer": "ipython3",
   "version": "3.10.9"
  },
  "orig_nbformat": 4,
  "vscode": {
   "interpreter": {
    "hash": "827a1ebbc8f307c8077451cc966d3185efad7db987bf320661a700f88698640d"
   }
  }
 },
 "nbformat": 4,
 "nbformat_minor": 2
}
